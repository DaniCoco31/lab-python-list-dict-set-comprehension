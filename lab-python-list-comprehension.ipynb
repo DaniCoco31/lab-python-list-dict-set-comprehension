{
 "cells": [
  {
   "cell_type": "markdown",
   "id": "25d7736c-ba17-4aff-b6bb-66eba20fbf4e",
   "metadata": {},
   "source": [
    "# Lab | List, Dict and Set Comprehension"
   ]
  },
  {
   "cell_type": "markdown",
   "id": "5d500160-2fb7-4777-b5e4-09d45ebaf328",
   "metadata": {},
   "source": [
    "In the previous exercise, you developed a program to manage customer orders and inventory. Now, let's take it a step further and incorporate comprehension into your code.\n",
    "\n",
    "Follow the steps below to complete the exercise:\n",
    "\n",
    "1. Review your code from the previous exercise and identify areas where you can apply comprehension to simplify and streamline your code. \n",
    "\n",
    "    - *Hint: Apply it to initialize inventory, updating the inventory and printing the updated inventory.*\n",
    "    \n",
    "    - For example, in initializing the inventory, we could have:\n",
    "    \n",
    "        ```python\n",
    "        def initialize_inventory(products):\n",
    "            \n",
    "            inventory = {product: int(input(f\"Enter the quantity of {product}s available: \")) for product in products}\n",
    "            return inventory\n",
    "\n",
    "        ```\n",
    "<br>\n",
    "    \n",
    "    \n",
    "2. Modify the function get_customer_orders so it prompts the user to enter the number of customer orders and gathers the product names using a loop and user input. Use comprehension.\n",
    "\n",
    "3. Add a new function to calculate the total price of the customer order. For each product in customer_orders, prompt the user to enter the price of that product. Use comprehension to calculate the total price. Note: assume that the user can only have 1 unit of each product.\n",
    "\n",
    "4. Modify the update_inventory function to remove the product from the inventory if its quantity becomes zero after fulfilling the customer orders. Use comprehension to filter out the products with a quantity of zero from the inventory.\n",
    "\n",
    "5. Print the total price of the customer order.\n",
    "\n",
    "Your code should produce output similar to the following:\n",
    "\n",
    "```python\n",
    "Enter the quantity of t-shirts available:  5\n",
    "Enter the quantity of mugs available:  4\n",
    "Enter the quantity of hats available:  3\n",
    "Enter the quantity of books available:  2\n",
    "Enter the quantity of keychains available:  1\n",
    "Enter the number of customer orders:  2\n",
    "Enter the name of a product that a customer wants to order:  hat\n",
    "Enter the name of a product that a customer wants to order:  keychain\n",
    "\n",
    "Order Statistics:\n",
    "Total Products Ordered: 2\n",
    "Percentage of Unique Products Ordered: 40.0\n",
    "\n",
    "Updated Inventory:\n",
    "t-shirt: 5\n",
    "mug: 4\n",
    "hat: 2\n",
    "book: 2\n",
    "Enter the price of keychain:  5\n",
    "Enter the price of hat:  10\n",
    "Total Price: 15.0\n",
    "\n",
    "```\n"
   ]
  },
  {
   "cell_type": "markdown",
   "id": "7dd3cbde-675a-4b81-92c3-f728846dbe06",
   "metadata": {},
   "source": [
    "## Exercise: Managing Customer Orders Optimized with Comprehension"
   ]
  },
  {
   "cell_type": "code",
   "execution_count": 9,
   "id": "bf8fe2ff",
   "metadata": {},
   "outputs": [],
   "source": [
    "#1. Review your code from the previous exercise and identify areas where you can apply comprehension to simplify and streamline your code. \n",
    "products = [\"t-shirt\", \"mug\", \"hat\", \"book\", \"keychain\"]\n",
    "def initialize_inventory(products):\n",
    "    inventory = {product: int(input(f\"Enter the quantity of {product} available:\")) for product in products}\n",
    "    return inventory\n",
    "#inventory = initialize_inventory(products)"
   ]
  },
  {
   "cell_type": "code",
   "execution_count": 10,
   "id": "5c529f11",
   "metadata": {},
   "outputs": [],
   "source": [
    "#1. Review your code from the previous exercise and identify areas where you can apply comprehension to simplify and streamline your code. \n",
    "def input_product():\n",
    "    order_product = \"\"\n",
    "    while order_product != \"no\":\n",
    "        order_product = input(\"Which product would you like to order?\").lower().strip()\n",
    "        if order_product not in products:\n",
    "            print(\"Product not available, try another\")\n",
    "        else:\n",
    "            return order_product\n",
    "    return None\n",
    "\n",
    "# i dont know how to filter only input number from one to five\n",
    "def get_customer_orders():\n",
    "    return {input_product() for element in range(int(input('Enter the number of customer orders')))}\n",
    "\n",
    "#products_ordered = get_customer_orders()\n",
    "#print(products_ordered)"
   ]
  },
  {
   "cell_type": "code",
   "execution_count": 11,
   "id": "ac103e93",
   "metadata": {},
   "outputs": [],
   "source": [
    "#3. Add a new function to calculate the total price of the customer order. For each product in customer_orders, \n",
    "# prompt the user to enter the price of that product. Use comprehension to calculate the total price. \n",
    "# Note: assume that the user can only have 1 unit of each product.\n",
    "\n",
    "\n",
    "def calculate_total_price():\n",
    "    prices = {i : int(input('Price of product '+i+':')) for i in products_ordered}\n",
    "    for key, value in prices.items():\n",
    "        print(f'Enter the price of {key}: {value}')\n",
    "    total = sum(prices.values())\n",
    "    return f\"Total: {total}\"\n",
    "\n",
    "#total_prices = calculate_total_price()"
   ]
  },
  {
   "cell_type": "code",
   "execution_count": 12,
   "id": "43d9e84e",
   "metadata": {},
   "outputs": [],
   "source": [
    "#4. Modify the update_inventory function to remove the product from the inventory if its quantity becomes zero after \n",
    "# fulfilling the customer orders. Use comprehension to filter out the products with a quantity of zero from the inventory.\n",
    "\n",
    "def update_inventory(products_ordered, inventory):\n",
    "    for product in products_ordered:\n",
    "        inventory[product]-=1\n",
    "    return {key: value for key, value in inventory.items() if value > 0}\n",
    "\n",
    "#updated_inventory = update_inventory(products_ordered, inventory)\n",
    "#print(updated_inventory)"
   ]
  },
  {
   "cell_type": "code",
   "execution_count": 13,
   "id": "a6140446",
   "metadata": {},
   "outputs": [],
   "source": [
    "def calculate_order_statistics(customer_orders, inventory):\n",
    "    #los productos ordenados solo puedes tener uno de cada\n",
    "    total_products_ordered = int(len(customer_orders))\n",
    "    #declaro en cero el total de todos los productos\n",
    "    total_products_amount = 0\n",
    "    #leo products como clave : valor\n",
    "    for product, amount in inventory.items():\n",
    "        #sumo solo los valores sin importar el producto\n",
    "        total_products_amount += int(amount)\n",
    "    #porcentaje una regla de 3\n",
    "    percentage_ordered = (total_products_ordered/total_products_amount)*100\n",
    "    #total de productos y el porcentaje\n",
    "    return (total_products_amount, percentage_ordered, total_products_ordered)"
   ]
  },
  {
   "cell_type": "code",
   "execution_count": 14,
   "id": "0598dd37",
   "metadata": {},
   "outputs": [],
   "source": [
    "def print_order_statistics(order_statistics):\n",
    "    print(\"Order Statistics:\")\n",
    "    print(\"Total products: \" + str(order_statistics[0]))\n",
    "    print(\"Total products ordered: \" + str(order_statistics[2]))\n",
    "    print(\"Percentage of Products Ordered:: \" + str(round(order_statistics[1],2)) + \"%\")  "
   ]
  },
  {
   "cell_type": "code",
   "execution_count": 15,
   "id": "7ec0609b",
   "metadata": {},
   "outputs": [],
   "source": [
    "\n",
    "def print_updated_inventory(inventory):\n",
    "      {print(f\"{product}:{amount}\") for product, amount in inventory.items()}\n",
    "      "
   ]
  },
  {
   "cell_type": "code",
   "execution_count": 16,
   "id": "0f4afa81",
   "metadata": {},
   "outputs": [
    {
     "name": "stdout",
     "output_type": "stream",
     "text": [
      "{'t-shirt': 10, 'mug': 10, 'hat': 10, 'book': 10, 'keychain': 10}\n",
      "Products order:'{'book', 'hat'}\n",
      "Enter the price of book: 20\n",
      "Enter the price of hat: 20\n",
      "Total: 40\n",
      "t-shirt:10\n",
      "mug:10\n",
      "hat:9\n",
      "book:9\n",
      "keychain:10\n",
      "Order Statistics:\n",
      "Total products: 48\n",
      "Total products ordered: 2\n",
      "Percentage of Products Ordered:: 4.17%\n"
     ]
    }
   ],
   "source": [
    "inventory = initialize_inventory(products)\n",
    "print(inventory)\n",
    "products_ordered = get_customer_orders()\n",
    "print(f\"Products order:'{products_ordered}\")\n",
    "total_prices = calculate_total_price()\n",
    "print(total_prices)\n",
    "updated_inventory = update_inventory(products_ordered, inventory)\n",
    "print_updated_inventory(updated_inventory)\n",
    "order_statistics = calculate_order_statistics(products_ordered, inventory)\n",
    "print_order_statistics(order_statistics)\n"
   ]
  }
 ],
 "metadata": {
  "interpreter": {
   "hash": "584093557690fa7b817b68151f31b4e6f6269ea11aeed8f643261726e3a08327"
  },
  "kernelspec": {
   "display_name": "Python 3.11.7 ('base')",
   "language": "python",
   "name": "python3"
  },
  "language_info": {
   "codemirror_mode": {
    "name": "ipython",
    "version": 3
   },
   "file_extension": ".py",
   "mimetype": "text/x-python",
   "name": "python",
   "nbconvert_exporter": "python",
   "pygments_lexer": "ipython3",
   "version": "3.11.7"
  }
 },
 "nbformat": 4,
 "nbformat_minor": 5
}
