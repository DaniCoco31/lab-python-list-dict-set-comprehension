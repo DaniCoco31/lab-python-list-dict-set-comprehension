{
 "cells": [
  {
   "cell_type": "markdown",
   "id": "25d7736c-ba17-4aff-b6bb-66eba20fbf4e",
   "metadata": {},
   "source": [
    "# Lab | List, Dict and Set Comprehension"
   ]
  },
  {
   "cell_type": "markdown",
   "id": "5d500160-2fb7-4777-b5e4-09d45ebaf328",
   "metadata": {},
   "source": [
    "In the previous exercise, you developed a program to manage customer orders and inventory. Now, let's take it a step further and incorporate comprehension into your code.\n",
    "\n",
    "Follow the steps below to complete the exercise:\n",
    "\n",
    "1. Review your code from the previous exercise and identify areas where you can apply comprehension to simplify and streamline your code. \n",
    "\n",
    "    - *Hint: Apply it to initialize inventory, updating the inventory and printing the updated inventory.*\n",
    "    \n",
    "    - For example, in initializing the inventory, we could have:\n",
    "    \n",
    "        ```python\n",
    "        def initialize_inventory(products):\n",
    "            \n",
    "            inventory = {product: int(input(f\"Enter the quantity of {product}s available: \")) for product in products}\n",
    "            return inventory\n",
    "\n",
    "        ```\n",
    "<br>\n",
    "    \n",
    "    \n",
    "2. Modify the function get_customer_orders so it prompts the user to enter the number of customer orders and gathers the product names using a loop and user input. Use comprehension.\n",
    "\n",
    "3. Add a new function to calculate the total price of the customer order. For each product in customer_orders, prompt the user to enter the price of that product. Use comprehension to calculate the total price. Note: assume that the user can only have 1 unit of each product.\n",
    "\n",
    "4. Modify the update_inventory function to remove the product from the inventory if its quantity becomes zero after fulfilling the customer orders. Use comprehension to filter out the products with a quantity of zero from the inventory.\n",
    "\n",
    "5. Print the total price of the customer order.\n",
    "\n",
    "Your code should produce output similar to the following:\n",
    "\n",
    "```python\n",
    "Enter the quantity of t-shirts available:  5\n",
    "Enter the quantity of mugs available:  4\n",
    "Enter the quantity of hats available:  3\n",
    "Enter the quantity of books available:  2\n",
    "Enter the quantity of keychains available:  1\n",
    "Enter the number of customer orders:  2\n",
    "Enter the name of a product that a customer wants to order:  hat\n",
    "Enter the name of a product that a customer wants to order:  keychain\n",
    "\n",
    "Order Statistics:\n",
    "Total Products Ordered: 2\n",
    "Percentage of Unique Products Ordered: 40.0\n",
    "\n",
    "Updated Inventory:\n",
    "t-shirt: 5\n",
    "mug: 4\n",
    "hat: 2\n",
    "book: 2\n",
    "Enter the price of keychain:  5\n",
    "Enter the price of hat:  10\n",
    "Total Price: 15.0\n",
    "\n",
    "```\n"
   ]
  },
  {
   "cell_type": "markdown",
   "id": "7dd3cbde-675a-4b81-92c3-f728846dbe06",
   "metadata": {},
   "source": [
    "## Exercise: Managing Customer Orders Optimized with Comprehension"
   ]
  },
  {
   "cell_type": "code",
   "execution_count": 1,
   "id": "bf8fe2ff",
   "metadata": {},
   "outputs": [],
   "source": [
    "#1.inicializar el inventario\n",
    "products = [\"t-shirt\", \"mug\", \"hat\", \"book\", \"keychain\"]\n",
    "def initialize_inventory(products):\n",
    "    inventory = {product: int(input(f\"Quantity of the {product}\")) for product in products}\n",
    "    return inventory"
   ]
  },
  {
   "cell_type": "code",
   "execution_count": 5,
   "id": "5c529f11",
   "metadata": {},
   "outputs": [],
   "source": [
    "def yes_or_no(question):\n",
    "    answer = input(question).lower().strip()\n",
    "    while answer != \"yes\" and answer != \"no\":\n",
    "        answer = input(\"Please, answer yes or no\")\n",
    "    return answer\n",
    "\n",
    "def get_customer_orders():\n",
    "    customer_order = set()\n",
    "    order_product = \"\"\n",
    "    while order_product != \"no\":\n",
    "        order_product = input(\"Which product would you like to order?\").lower().strip()\n",
    "        if order_product not in products:\n",
    "            print(\"Product not available, try another\")\n",
    "        elif order_product in customer_order:\n",
    "            print(\"Product already order, try another\")\n",
    "        else:\n",
    "            customer_order.add(order_product)\n",
    "            order_product = yes_or_no(\"Do you want  want to add another product ? (yes/no)\")\n",
    "    return customer_order\n",
    "\n",
    "def get_customer_orders():\n",
    "    quantity_ordered = int(input(\"How many producs will you order?\"))\n",
    "    customer_order = {input(\"Which product would you like to order?\".lower().strip()) for i in range(quantity_ordered)}\n",
    "    \n",
    "#get_customer_orders so it prompts the user to enter the number of customer orders and gathers \n",
    "# the product names using a loop and user input. Use comprehension.\n"
   ]
  },
  {
   "cell_type": "code",
   "execution_count": 81,
   "metadata": {},
   "outputs": [
    {
     "ename": "NameError",
     "evalue": "name 'order_product' is not defined",
     "output_type": "error",
     "traceback": [
      "\u001b[0;31m---------------------------------------------------------------------------\u001b[0m",
      "\u001b[0;31mNameError\u001b[0m                                 Traceback (most recent call last)",
      "Cell \u001b[0;32mIn[81], line 1\u001b[0m\n\u001b[0;32m----> 1\u001b[0m customer_order \u001b[38;5;241m=\u001b[39m {order_product \u001b[38;5;241m!=\u001b[39m \u001b[38;5;124m\"\u001b[39m\u001b[38;5;124m\"\u001b[39m: (\u001b[38;5;28minput\u001b[39m(\u001b[38;5;124m\"\u001b[39m\u001b[38;5;124mWhich product would you like to order?\u001b[39m\u001b[38;5;124m\"\u001b[39m)\u001b[38;5;241m.\u001b[39mlower()\u001b[38;5;241m.\u001b[39mstrip()) \u001b[38;5;28;01mif\u001b[39;00m (order_product \u001b[38;5;241m!=\u001b[39m \u001b[38;5;124m\"\u001b[39m\u001b[38;5;124mno\u001b[39m\u001b[38;5;124m\"\u001b[39m)\\\n\u001b[1;32m      2\u001b[0m         \u001b[38;5;28;01melse\u001b[39;00m \u001b[38;5;28mprint\u001b[39m(\u001b[38;5;124m\"\u001b[39m\u001b[38;5;124mProduct not available, try another\u001b[39m\u001b[38;5;124m\"\u001b[39m) \u001b[38;5;28;01mif\u001b[39;00m order_product \u001b[38;5;129;01mnot\u001b[39;00m \u001b[38;5;129;01min\u001b[39;00m products \\\n\u001b[1;32m      3\u001b[0m         \u001b[38;5;28;01melse\u001b[39;00m \u001b[38;5;28mprint\u001b[39m(\u001b[38;5;124m\"\u001b[39m\u001b[38;5;124mProduct already order, try another\u001b[39m\u001b[38;5;124m\"\u001b[39m) \u001b[38;5;28;01mif\u001b[39;00m order_product \u001b[38;5;241m!=\u001b[39m order_product \\\n\u001b[1;32m      4\u001b[0m             \u001b[38;5;28;01melse\u001b[39;00m customer_order\u001b[38;5;241m.\u001b[39madd(order_product)}\n",
      "\u001b[0;31mNameError\u001b[0m: name 'order_product' is not defined"
     ]
    }
   ],
   "source": [
    "customer_order = {o: (input(\"Which product would you like to order?\").lower().strip()) if (order_product != \"no\")\\\n",
    "        else print(\"Product not available, try another\") if order_product not in products \\\n",
    "        else print(\"Product already order, try another\") if order_product != order_product \\\n",
    "            else customer_order.add(order_product)}"
   ]
  },
  {
   "cell_type": "code",
   "execution_count": 4,
   "id": "43d9e84e",
   "metadata": {},
   "outputs": [],
   "source": [
    "products = [\"t-shirt\", \"mug\", \"hat\", \"book\", \"keychain\"]\n",
    "#def update_inventory(customer_orders, inventory):\n",
    "#    for product in customer_orders:\n",
    "#        inventory[product]-=1\n",
    "#    return inventory\n",
    "\n",
    "def update_inventory(customer_orders, inventory):\n",
    "    inventory = {products: inventory[product]-1 if product in customer_orders else inventory[product] for product in inventory}\n",
    "    inventory = {products: inventory[product] for product in inventory if inventory[product]>0 }"
   ]
  },
  {
   "cell_type": "code",
   "execution_count": 36,
   "id": "a6140446",
   "metadata": {},
   "outputs": [],
   "source": [
    "def calculate_order_statistics(customer_orders, inventory):\n",
    "    #los productos ordenados solo puedes tener uno de cada\n",
    "    total_products_ordered = int(len(customer_orders))\n",
    "    #declaro en cero el total de todos los productos\n",
    "    total_products_amount = 0\n",
    "    #leo products como clave : valor\n",
    "    for product, amount in inventory.items():\n",
    "        #sumo solo los valores sin importar el producto\n",
    "        total_products_amount += int(amount)\n",
    "    #porcentaje una regla de 3\n",
    "    percentage_ordered = (total_products_ordered/total_products_amount)*100\n",
    "    #total de productos y el porcentaje\n",
    "    return (total_products_amount, percentage_ordered, total_products_ordered)"
   ]
  },
  {
   "cell_type": "code",
   "execution_count": 37,
   "id": "0598dd37",
   "metadata": {},
   "outputs": [],
   "source": [
    "def print_order_statistics(order_statistics):\n",
    "    print(\"Order Statistics:\")\n",
    "    print(\"Total products: \" + str(order_statistics[0]))\n",
    "    print(\"Total products ordered: \" + str(order_statistics[2]))\n",
    "    print(\"Percentage of Products Ordered:: \" + str(round(order_statistics[1],2)) + \"%\")  "
   ]
  },
  {
   "cell_type": "code",
   "execution_count": 51,
   "id": "7ec0609b",
   "metadata": {},
   "outputs": [],
   "source": [
    "\n",
    "def print_updated_inventory(inventory):\n",
    "      {print(f\"{product}:{amount}\") for product, amount in inventory.items()}\n",
    "      "
   ]
  },
  {
   "cell_type": "code",
   "execution_count": 52,
   "id": "809072cb",
   "metadata": {},
   "outputs": [],
   "source": [
    "products = [\"t-shirt\", \"mug\", \"hat\", \"book\", \"keychain\"]"
   ]
  },
  {
   "cell_type": "code",
   "execution_count": 54,
   "id": "6cc151c0",
   "metadata": {},
   "outputs": [
    {
     "name": "stdout",
     "output_type": "stream",
     "text": [
      "{'book'}\n"
     ]
    }
   ],
   "source": [
    "customer_orders = get_customer_orders()\n",
    "print(customer_orders)"
   ]
  },
  {
   "cell_type": "code",
   "execution_count": 55,
   "id": "5506a744",
   "metadata": {},
   "outputs": [
    {
     "name": "stdout",
     "output_type": "stream",
     "text": [
      "{'t-shirt': 20, 'mug': 20, 'hat': 16, 'book': 19, 'keychain': 20}\n"
     ]
    }
   ],
   "source": [
    "inventory = update_inventory(customer_orders, inventory)\n",
    "print(inventory)"
   ]
  },
  {
   "cell_type": "code",
   "execution_count": 56,
   "id": "ec7021ed",
   "metadata": {},
   "outputs": [],
   "source": [
    "order_statistics = calculate_order_statistics(customer_orders, inventory)"
   ]
  },
  {
   "cell_type": "code",
   "execution_count": 57,
   "id": "105cc732",
   "metadata": {},
   "outputs": [
    {
     "name": "stdout",
     "output_type": "stream",
     "text": [
      "Order Statistics:\n",
      "Total products: 95\n",
      "Total products ordered: 1\n",
      "Percentage of Products Ordered:: 1.05%\n"
     ]
    }
   ],
   "source": [
    "print_order_statistics(order_statistics)"
   ]
  },
  {
   "cell_type": "code",
   "execution_count": 58,
   "id": "e9073e8b",
   "metadata": {},
   "outputs": [
    {
     "name": "stdout",
     "output_type": "stream",
     "text": [
      "t-shirt:20\n",
      "mug:20\n",
      "hat:16\n",
      "book:19\n",
      "keychain:20\n"
     ]
    }
   ],
   "source": [
    "print_updated_inventory(inventory)"
   ]
  },
  {
   "cell_type": "code",
   "execution_count": null,
   "id": "0f4afa81",
   "metadata": {},
   "outputs": [],
   "source": []
  }
 ],
 "metadata": {
  "interpreter": {
   "hash": "584093557690fa7b817b68151f31b4e6f6269ea11aeed8f643261726e3a08327"
  },
  "kernelspec": {
   "display_name": "Python 3.11.7 ('base')",
   "language": "python",
   "name": "python3"
  },
  "language_info": {
   "codemirror_mode": {
    "name": "ipython",
    "version": 3
   },
   "file_extension": ".py",
   "mimetype": "text/x-python",
   "name": "python",
   "nbconvert_exporter": "python",
   "pygments_lexer": "ipython3",
   "version": "3.11.7"
  }
 },
 "nbformat": 4,
 "nbformat_minor": 5
}
